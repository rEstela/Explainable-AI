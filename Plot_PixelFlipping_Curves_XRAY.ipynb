{
 "cells": [
  {
   "cell_type": "code",
   "execution_count": 1,
   "id": "8b134f78",
   "metadata": {},
   "outputs": [],
   "source": [
    "import pandas as pd\n",
    "import matplotlib.pyplot as plt\n",
    "import numpy as np\n",
    "import os"
   ]
  },
  {
   "cell_type": "code",
   "execution_count": 2,
   "id": "f5cbad08",
   "metadata": {},
   "outputs": [],
   "source": [
    "def plot_pred_ind_rand(predictions, defcolor = 'c'):\n",
    "    '''\n",
    "    Pixel-flipping curve for an individual image\n",
    "\n",
    "    Args.\n",
    "        predictions: (num_superpixels, ) prediction vector\n",
    "\n",
    "\n",
    "    '''\n",
    "    if defcolor == 'c':\n",
    "        #plt.plot(predictions, c='0.85', lw=1, alpha=0.5, label='Individual') # gray line\n",
    "        plt.plot(predictions, color= 'r', lw=0.5, alpha=0.2) # blue thin line\n",
    "    elif defcolor == 'b':\n",
    "        plt.plot(predictions, color= defcolor, lw=0.5, alpha=0.2) # blue thin line\n",
    "    #plt.title(\"Pixel-flipping curve\", fontsize=30)\n",
    "    plt.xlabel(\"Number of flipped segments\", fontsize=11)\n",
    "    plt.ylabel(\"Output score\", fontsize=11)\n",
    "    plt.ylim(0, 1)\n",
    "    plt.xlim(0, len(predictions)-1)\n",
    "    #plt.grid()\n",
    "    #plt.legend()\n",
    "# -------------------------------------------------------------------------------------"
   ]
  },
  {
   "cell_type": "code",
   "execution_count": 3,
   "id": "a00a7d27",
   "metadata": {},
   "outputs": [],
   "source": [
    "def plot_pred_mean_rand(predictions, defcolor = 'r', label = 'Average'):\n",
    "    '''\n",
    "    Pixel-flipping curve for mean predictions\n",
    "\n",
    "    Args.\n",
    "        predictions: (num_superpixels, n_img) \n",
    "\n",
    "\n",
    "    '''\n",
    "    plt.plot(predictions, lw=2.0, ls='-', color= defcolor, alpha=0.8, label=label)\n",
    "    #plt.title(\"Pixel-flipping curve\", fontsize=30)\n",
    "    plt.xlabel(\"Number of flipped segments\", fontsize=11)\n",
    "    plt.ylabel(\"Output score\", fontsize=11)\n",
    "    plt.ylim(0, 1)\n",
    "    #plt.xlim(0, len(predictions)-1)\n",
    "    plt.xlim(0, 10)\n",
    "    #plt.grid()\n",
    "    plt.legend()\n",
    "# -------------------------------------------------------------------------------------"
   ]
  },
  {
   "cell_type": "code",
   "execution_count": 6,
   "id": "e62da384",
   "metadata": {},
   "outputs": [],
   "source": [
    "file_pred = 'C:/Users/estela.ribeiro/JupyterNotebooks/PythonCodes/Interpreters/raioX/Data_RES/Pred/Positive/'\n",
    "file_rand = 'C:/Users/estela.ribeiro/JupyterNotebooks/PythonCodes/Interpreters/raioX/Data_RES/Rand/Positive/'"
   ]
  },
  {
   "cell_type": "code",
   "execution_count": 5,
   "id": "e8264d6b",
   "metadata": {},
   "outputs": [
    {
     "ename": "FileNotFoundError",
     "evalue": "[WinError 3] O sistema não pode encontrar o caminho especificado: 'C:/Users/estela.ribeiro/JupyterNotebooks/PythonCodes/Interpreters/Data_RES/Pred/Positive/'",
     "output_type": "error",
     "traceback": [
      "\u001b[1;31m---------------------------------------------------------------------------\u001b[0m",
      "\u001b[1;31mFileNotFoundError\u001b[0m                         Traceback (most recent call last)",
      "\u001b[1;32mC:\\Users\\ESTELA~1.RIB\\AppData\\Local\\Temp/ipykernel_1696/2891033934.py\u001b[0m in \u001b[0;36m<module>\u001b[1;34m\u001b[0m\n\u001b[0;32m      1\u001b[0m \u001b[0mx_pred\u001b[0m \u001b[1;33m=\u001b[0m \u001b[1;33m[\u001b[0m\u001b[1;33m]\u001b[0m\u001b[1;33m\u001b[0m\u001b[1;33m\u001b[0m\u001b[0m\n\u001b[1;32m----> 2\u001b[1;33m \u001b[1;32mfor\u001b[0m \u001b[0mentry\u001b[0m \u001b[1;32min\u001b[0m \u001b[0mos\u001b[0m\u001b[1;33m.\u001b[0m\u001b[0mlistdir\u001b[0m\u001b[1;33m(\u001b[0m\u001b[0mfile_pred\u001b[0m\u001b[1;33m)\u001b[0m\u001b[1;33m:\u001b[0m\u001b[1;33m\u001b[0m\u001b[1;33m\u001b[0m\u001b[0m\n\u001b[0m\u001b[0;32m      3\u001b[0m         \u001b[1;32mif\u001b[0m \u001b[0mos\u001b[0m\u001b[1;33m.\u001b[0m\u001b[0mpath\u001b[0m\u001b[1;33m.\u001b[0m\u001b[0misfile\u001b[0m\u001b[1;33m(\u001b[0m\u001b[0mos\u001b[0m\u001b[1;33m.\u001b[0m\u001b[0mpath\u001b[0m\u001b[1;33m.\u001b[0m\u001b[0mjoin\u001b[0m\u001b[1;33m(\u001b[0m\u001b[0mfile_pred\u001b[0m\u001b[1;33m,\u001b[0m \u001b[0mentry\u001b[0m\u001b[1;33m)\u001b[0m\u001b[1;33m)\u001b[0m\u001b[1;33m:\u001b[0m\u001b[1;33m\u001b[0m\u001b[1;33m\u001b[0m\u001b[0m\n\u001b[0;32m      4\u001b[0m             \u001b[0mprint\u001b[0m\u001b[1;33m(\u001b[0m\u001b[1;34mf'Filename: {entry}'\u001b[0m\u001b[1;33m)\u001b[0m\u001b[1;33m\u001b[0m\u001b[1;33m\u001b[0m\u001b[0m\n\u001b[0;32m      5\u001b[0m             \u001b[0mdf\u001b[0m \u001b[1;33m=\u001b[0m \u001b[0mpd\u001b[0m\u001b[1;33m.\u001b[0m\u001b[0mread_csv\u001b[0m\u001b[1;33m(\u001b[0m\u001b[0mfile_pred\u001b[0m \u001b[1;33m+\u001b[0m \u001b[0mentry\u001b[0m\u001b[1;33m)\u001b[0m\u001b[1;33m\u001b[0m\u001b[1;33m\u001b[0m\u001b[0m\n",
      "\u001b[1;31mFileNotFoundError\u001b[0m: [WinError 3] O sistema não pode encontrar o caminho especificado: 'C:/Users/estela.ribeiro/JupyterNotebooks/PythonCodes/Interpreters/Data_RES/Pred/Positive/'"
     ]
    }
   ],
   "source": [
    "x_pred = []\n",
    "for entry in os.listdir(file_pred):\n",
    "        if os.path.isfile(os.path.join(file_pred, entry)):\n",
    "            print(f'Filename: {entry}')\n",
    "            df = pd.read_csv(file_pred + entry)\n",
    "            df = df.drop(['Unnamed: 0'], axis=1)\n",
    "            x = df.to_numpy()\n",
    "            x_pred.append(x)\n",
    "            plot_pred_ind_rand(x, 'c')"
   ]
  },
  {
   "cell_type": "code",
   "execution_count": null,
   "id": "08b76239",
   "metadata": {},
   "outputs": [],
   "source": [
    "x_rand = []\n",
    "for entry in os.listdir(file_rand):\n",
    "        if os.path.isfile(os.path.join(file_rand, entry)):\n",
    "            print(f'Filename: {entry}')\n",
    "            df = pd.read_csv(file_rand + entry)\n",
    "            df = df.drop(['Unnamed: 0'], axis=1)\n",
    "            x = df.to_numpy()\n",
    "            x_rand.append(x)\n",
    "            plot_pred_ind_rand(x, 'b')"
   ]
  },
  {
   "cell_type": "code",
   "execution_count": null,
   "id": "acf483bc",
   "metadata": {},
   "outputs": [],
   "source": [
    "# Plots\n",
    "fig = plt.figure()\n",
    "# -> Individuals\n",
    "for i in range(len(x_pred)):\n",
    "    plot_pred_ind_rand(x_pred[i], 'c')\n",
    "\n",
    "mx = np.mean(np.array(x_pred), axis = 0)\n",
    "# -> Mean\n",
    "plot_pred_mean_rand(mx, 'r', 'GRADCAM')\n",
    "    \n",
    "# -> Indviduals random\n",
    "for i in range(len(x_rand)):\n",
    "    plot_pred_ind_rand(x_rand[i], 'b')\n",
    "    \n",
    "mxrand = np.mean(np.array(x_rand), axis = 0)\n",
    "# -> Mean random\n",
    "plot_pred_mean_rand(mxrand, 'b', 'Random')\n",
    "\n",
    "#fig.savefig('cardio_res_neg', format='eps', dpi=500)\n",
    "#fig.savefig('cardio_res_neg' + '.png', dpi=500)"
   ]
  },
  {
   "cell_type": "code",
   "execution_count": null,
   "id": "c057db2b",
   "metadata": {},
   "outputs": [],
   "source": [
    "file_pred = 'C:/Users/estela.ribeiro/JupyterNotebooks/PythonCodes/Interpreters/raioX/Data_EFF/Pred/Positive/'\n",
    "file_rand = 'C:/Users/estela.ribeiro/JupyterNotebooks/PythonCodes/Interpreters/raioX/Data_EFF/Rand/Positive/'"
   ]
  },
  {
   "cell_type": "code",
   "execution_count": null,
   "id": "697a97f9",
   "metadata": {},
   "outputs": [],
   "source": [
    "x_pred = []\n",
    "for entry in os.listdir(file_pred):\n",
    "        if os.path.isfile(os.path.join(file_pred, entry)):\n",
    "            print(f'Filename: {entry}')\n",
    "            df = pd.read_csv(file_pred + entry)\n",
    "            df = df.drop(['Unnamed: 0'], axis=1)\n",
    "            x = df.to_numpy()\n",
    "            x_pred.append(x)\n",
    "            plot_pred_ind_rand(x, 'c')"
   ]
  },
  {
   "cell_type": "code",
   "execution_count": null,
   "id": "d3824f7b",
   "metadata": {},
   "outputs": [],
   "source": [
    "x_rand = []\n",
    "for entry in os.listdir(file_rand):\n",
    "        if os.path.isfile(os.path.join(file_rand, entry)):\n",
    "            print(f'Filename: {entry}')\n",
    "            df = pd.read_csv(file_rand + entry)\n",
    "            df = df.drop(['Unnamed: 0'], axis=1)\n",
    "            x = df.to_numpy()\n",
    "            x_rand.append(x)\n",
    "            plot_pred_ind_rand(x, 'b')"
   ]
  },
  {
   "cell_type": "code",
   "execution_count": null,
   "id": "301cbf1d",
   "metadata": {},
   "outputs": [],
   "source": [
    "# Plots\n",
    "fig = plt.figure()\n",
    "# -> Individuals\n",
    "for i in range(len(x_pred)):\n",
    "    plot_pred_ind_rand(x_pred[i], 'c')\n",
    "\n",
    "mx = np.mean(np.array(x_pred), axis = 0)\n",
    "# -> Mean\n",
    "plot_pred_mean_rand(mx, 'r', 'GRADCAM')\n",
    "    \n",
    "# -> Indviduals random\n",
    "for i in range(len(x_rand)):\n",
    "    plot_pred_ind_rand(x_rand[i], 'b')\n",
    "    \n",
    "mxrand = np.mean(np.array(x_rand), axis = 0)\n",
    "# -> Mean random\n",
    "plot_pred_mean_rand(mxrand, 'b', 'Random')\n",
    "\n",
    "#fig.savefig('cardio_eff_neg', format='eps', dpi=500)\n",
    "#fig.savefig('cardio_eff_neg' + '.png', dpi=500)"
   ]
  },
  {
   "cell_type": "code",
   "execution_count": null,
   "id": "5b41973e",
   "metadata": {},
   "outputs": [],
   "source": []
  }
 ],
 "metadata": {
  "kernelspec": {
   "display_name": "Python 3 (ipykernel)",
   "language": "python",
   "name": "python3"
  },
  "language_info": {
   "codemirror_mode": {
    "name": "ipython",
    "version": 3
   },
   "file_extension": ".py",
   "mimetype": "text/x-python",
   "name": "python",
   "nbconvert_exporter": "python",
   "pygments_lexer": "ipython3",
   "version": "3.9.7"
  }
 },
 "nbformat": 4,
 "nbformat_minor": 5
}
